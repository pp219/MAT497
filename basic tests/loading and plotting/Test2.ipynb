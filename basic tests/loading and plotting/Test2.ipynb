{
 "cells": [
  {
   "cell_type": "code",
   "execution_count": 1,
   "metadata": {},
   "outputs": [
    {
     "ename": "FileNotFoundError",
     "evalue": "[Errno 2] No such file or directory: '-f'",
     "output_type": "error",
     "traceback": [
      "\u001b[1;31m---------------------------------------------------------------------------\u001b[0m",
      "\u001b[1;31mFileNotFoundError\u001b[0m                         Traceback (most recent call last)",
      "\u001b[1;32m<ipython-input-1-503ba1e1c40a>\u001b[0m in \u001b[0;36m<module>\u001b[1;34m\u001b[0m\n\u001b[0;32m     22\u001b[0m \u001b[1;31m# Read in image and convert to greyscale array object\u001b[0m\u001b[1;33m\u001b[0m\u001b[1;33m\u001b[0m\u001b[1;33m\u001b[0m\u001b[0m\n\u001b[0;32m     23\u001b[0m \u001b[0mimg_name\u001b[0m \u001b[1;33m=\u001b[0m \u001b[0msys\u001b[0m\u001b[1;33m.\u001b[0m\u001b[0margv\u001b[0m\u001b[1;33m[\u001b[0m\u001b[1;36m1\u001b[0m\u001b[1;33m]\u001b[0m\u001b[1;33m\u001b[0m\u001b[1;33m\u001b[0m\u001b[0m\n\u001b[1;32m---> 24\u001b[1;33m \u001b[0mim\u001b[0m \u001b[1;33m=\u001b[0m \u001b[0mImage\u001b[0m\u001b[1;33m.\u001b[0m\u001b[0mopen\u001b[0m\u001b[1;33m(\u001b[0m\u001b[0mimg_name\u001b[0m\u001b[1;33m)\u001b[0m\u001b[1;33m\u001b[0m\u001b[1;33m\u001b[0m\u001b[0m\n\u001b[0m\u001b[0;32m     25\u001b[0m \u001b[0mim\u001b[0m \u001b[1;33m=\u001b[0m \u001b[0mnp\u001b[0m\u001b[1;33m.\u001b[0m\u001b[0marray\u001b[0m\u001b[1;33m(\u001b[0m\u001b[0mim\u001b[0m\u001b[1;33m.\u001b[0m\u001b[0mconvert\u001b[0m\u001b[1;33m(\u001b[0m\u001b[1;34m'L'\u001b[0m\u001b[1;33m)\u001b[0m\u001b[1;33m)\u001b[0m\u001b[1;33m\u001b[0m\u001b[1;33m\u001b[0m\u001b[0m\n\u001b[0;32m     26\u001b[0m \u001b[1;33m\u001b[0m\u001b[0m\n",
      "\u001b[1;32m~\\Anaconda3\\lib\\site-packages\\PIL\\Image.py\u001b[0m in \u001b[0;36mopen\u001b[1;34m(fp, mode)\u001b[0m\n\u001b[0;32m   2768\u001b[0m \u001b[1;33m\u001b[0m\u001b[0m\n\u001b[0;32m   2769\u001b[0m     \u001b[1;32mif\u001b[0m \u001b[0mfilename\u001b[0m\u001b[1;33m:\u001b[0m\u001b[1;33m\u001b[0m\u001b[1;33m\u001b[0m\u001b[0m\n\u001b[1;32m-> 2770\u001b[1;33m         \u001b[0mfp\u001b[0m \u001b[1;33m=\u001b[0m \u001b[0mbuiltins\u001b[0m\u001b[1;33m.\u001b[0m\u001b[0mopen\u001b[0m\u001b[1;33m(\u001b[0m\u001b[0mfilename\u001b[0m\u001b[1;33m,\u001b[0m \u001b[1;34m\"rb\"\u001b[0m\u001b[1;33m)\u001b[0m\u001b[1;33m\u001b[0m\u001b[1;33m\u001b[0m\u001b[0m\n\u001b[0m\u001b[0;32m   2771\u001b[0m         \u001b[0mexclusive_fp\u001b[0m \u001b[1;33m=\u001b[0m \u001b[1;32mTrue\u001b[0m\u001b[1;33m\u001b[0m\u001b[1;33m\u001b[0m\u001b[0m\n\u001b[0;32m   2772\u001b[0m \u001b[1;33m\u001b[0m\u001b[0m\n",
      "\u001b[1;31mFileNotFoundError\u001b[0m: [Errno 2] No such file or directory: '-f'"
     ]
    }
   ],
   "source": [
    "import os\n",
    "import sys\n",
    "import numpy as np\n",
    "from scipy.interpolate import griddata\n",
    "import matplotlib.pyplot as plt\n",
    "from PIL import Image\n",
    "\n",
    "def make_interpolated_image(nsamples):\n",
    "    \"\"\"Make an interpolated image from a random selection of pixels.\n",
    "\n",
    "    Take nsamples random pixels from im and reconstruct the image using\n",
    "    scipy.interpolate.griddata.\n",
    "\n",
    "    \"\"\"\n",
    "\n",
    "    ix = np.random.randint(im.shape[1], size=nsamples)\n",
    "    iy = np.random.randint(im.shape[0], size=nsamples)\n",
    "    samples = im[iy,ix]\n",
    "    int_im = griddata((iy, ix), samples, (Y, X))\n",
    "    return int_im\n",
    "\n",
    "# Read in image and convert to greyscale array object\n",
    "img_name = sys.argv[1]\n",
    "im = Image.open(img_name)\n",
    "im = np.array(im.convert('L'))\n",
    "\n",
    "# A meshgrid of pixel coordinates\n",
    "nx, ny = im.shape[1], im.shape[0]\n",
    "X, Y = np.meshgrid(np.arange(0, nx, 1), np.arange(0, ny, 1))\n",
    "\n",
    "# Create a figure of nrows x ncols subplots, and orient it appropriately\n",
    "# for the aspect ratio of the image.\n",
    "nrows, ncols = 2, 2\n",
    "fig, ax = plt.subplots(nrows=2, ncols=2, figsize=(6,4), dpi=100)\n",
    "if nx < ny:\n",
    "    w, h = fig.get_figwidth(), fig.get_figheight()\n",
    "    fig.set_figwidth(h), fig.set_figheight(w)\n",
    "\n",
    "# Convert an integer i to coordinates in the ax array\n",
    "get_indices = lambda i: (i // nrows, i % ncols)\n",
    "\n",
    "# Sample 100, 1,000, 10,000 and 100,000 points and plot the interpolated\n",
    "# images in the figure\n",
    "for i in range(4):\n",
    "    nsamples = 10**(i+2)\n",
    "    axes = ax[get_indices(i)]\n",
    "    axes.imshow(make_interpolated_image(nsamples),\n",
    "                          cmap=plt.get_cmap('Greys_r'))\n",
    "    axes.set_xticks([])\n",
    "    axes.set_yticks([])\n",
    "    axes.set_title('nsamples = {0:d}'.format(nsamples))\n",
    "filestem = os.path.splitext(os.path.basename(img_name))[0]\n",
    "plt.savefig('{0:s}_interp.png'.format(filestem), dpi=100)"
   ]
  },
  {
   "cell_type": "code",
   "execution_count": 6,
   "metadata": {},
   "outputs": [
    {
     "data": {
      "text/html": [
       "<div>\n",
       "<style scoped>\n",
       "    .dataframe tbody tr th:only-of-type {\n",
       "        vertical-align: middle;\n",
       "    }\n",
       "\n",
       "    .dataframe tbody tr th {\n",
       "        vertical-align: top;\n",
       "    }\n",
       "\n",
       "    .dataframe thead th {\n",
       "        text-align: right;\n",
       "    }\n",
       "</style>\n",
       "<table border=\"1\" class=\"dataframe\">\n",
       "  <thead>\n",
       "    <tr style=\"text-align: right;\">\n",
       "      <th></th>\n",
       "      <th>X</th>\n",
       "      <th>Y</th>\n",
       "      <th>Color</th>\n",
       "    </tr>\n",
       "  </thead>\n",
       "  <tbody>\n",
       "    <tr>\n",
       "      <th>0</th>\n",
       "      <td>0.019452</td>\n",
       "      <td>0.180548</td>\n",
       "      <td>0.000451</td>\n",
       "    </tr>\n",
       "    <tr>\n",
       "      <th>1</th>\n",
       "      <td>0.036040</td>\n",
       "      <td>0.180950</td>\n",
       "      <td>0.000609</td>\n",
       "    </tr>\n",
       "    <tr>\n",
       "      <th>2</th>\n",
       "      <td>0.019862</td>\n",
       "      <td>0.171078</td>\n",
       "      <td>0.000570</td>\n",
       "    </tr>\n",
       "    <tr>\n",
       "      <th>3</th>\n",
       "      <td>0.028643</td>\n",
       "      <td>0.162951</td>\n",
       "      <td>0.000808</td>\n",
       "    </tr>\n",
       "    <tr>\n",
       "      <th>4</th>\n",
       "      <td>0.020107</td>\n",
       "      <td>0.165363</td>\n",
       "      <td>0.000640</td>\n",
       "    </tr>\n",
       "  </tbody>\n",
       "</table>\n",
       "</div>"
      ],
      "text/plain": [
       "          X         Y     Color\n",
       "0  0.019452  0.180548  0.000451\n",
       "1  0.036040  0.180950  0.000609\n",
       "2  0.019862  0.171078  0.000570\n",
       "3  0.028643  0.162951  0.000808\n",
       "4  0.020107  0.165363  0.000640"
      ]
     },
     "execution_count": 6,
     "metadata": {},
     "output_type": "execute_result"
    }
   ],
   "source": [
    "import pandas as pd\n",
    "data= pd.read_csv('SG_plot.csv')\n",
    "data.head()\n"
   ]
  },
  {
   "cell_type": "code",
   "execution_count": 11,
   "metadata": {},
   "outputs": [],
   "source": [
    "x=data['X']\n",
    "y=data['Y']\n",
    "z=data['Color']"
   ]
  },
  {
   "cell_type": "code",
   "execution_count": 16,
   "metadata": {},
   "outputs": [
    {
     "data": {
      "text/plain": [
       "(array([[ 9.,  1.,  4.,  4.,  6.,  8.,  4.,  5.,  8.,  7.],\n",
       "        [ 4.,  0.,  5.,  2.,  1.,  4.,  3.,  4., 11., 10.],\n",
       "        [ 6.,  0.,  3.,  2.,  1.,  3.,  1.,  4., 12.,  6.],\n",
       "        [ 3.,  1.,  2.,  0.,  3.,  0.,  5.,  3.,  9.,  9.],\n",
       "        [ 6.,  0.,  5.,  0.,  0.,  3.,  4.,  5., 10., 10.],\n",
       "        [ 4.,  3.,  5.,  2.,  0.,  7.,  4.,  4., 11., 12.],\n",
       "        [ 3.,  2.,  3.,  1.,  1.,  2.,  3.,  3., 12., 10.],\n",
       "        [ 6.,  1.,  3.,  1.,  1.,  3.,  3.,  6., 16., 14.],\n",
       "        [ 4.,  3.,  5.,  0.,  3.,  3.,  3.,  4.,  5.,  8.],\n",
       "        [ 5.,  2.,  5.,  4.,  5.,  7., 13.,  2.,  8.,  7.]]),\n",
       " array([0. , 0.1, 0.2, 0.3, 0.4, 0.5, 0.6, 0.7, 0.8, 0.9, 1. ]),\n",
       " array([0.1 , 0.11, 0.12, 0.13, 0.14, 0.15, 0.16, 0.17, 0.18, 0.19, 0.2 ]),\n",
       " <matplotlib.collections.QuadMesh at 0x25b38b80c18>)"
      ]
     },
     "execution_count": 16,
     "metadata": {},
     "output_type": "execute_result"
    },
    {
     "data": {
      "image/png": "[encoded data removed]",
      "text/plain": [
       "<Figure size 432x288 with 2 Axes>"
      ]
     },
     "metadata": {
      "needs_background": "light"
     },
     "output_type": "display_data"
    }
   ],
   "source": [
    "h =plt.hist2d(x, y)\n",
    "plt.colorbar(h[3])\n",
    "plt.xlabel('x')\n",
    "plt.ylabel('y')\n",
    "plt.title('Frequency histogram')\n",
    "h"
   ]
  },
  {
   "cell_type": "code",
   "execution_count": null,
   "metadata": {},
   "outputs": [],
   "source": []
  }
 ],
 "metadata": {
  "kernelspec": {
   "display_name": "Python 3",
   "language": "python",
   "name": "python3"
  },
  "language_info": {
   "codemirror_mode": {
    "name": "ipython",
    "version": 3
   },
   "file_extension": ".py",
   "mimetype": "text/x-python",
   "name": "python",
   "nbconvert_exporter": "python",
   "pygments_lexer": "ipython3",
   "version": "3.7.3"
  }
 },
 "nbformat": 4,
 "nbformat_minor": 2
}
