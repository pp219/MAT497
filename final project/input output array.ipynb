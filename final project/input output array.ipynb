{
 "cells": [
  {
   "cell_type": "code",
   "execution_count": 4,
   "metadata": {},
   "outputs": [],
   "source": [
    "%matplotlib inline\n",
    "import pandas as pd\n",
    "import numpy as np\n",
    "import matplotlib.pyplot as plt\n",
    "from pandas import DataFrame\n"
   ]
  },
  {
   "cell_type": "code",
   "execution_count": 5,
   "metadata": {},
   "outputs": [],
   "source": [
    "a = pd.read_excel('surface9_test.xlsx', sheet_name = '1')\n",
    "b = pd.read_excel('surface9_test.xlsx', sheet_name = '2')\n"
   ]
  },
  {
   "cell_type": "code",
   "execution_count": 36,
   "metadata": {},
   "outputs": [],
   "source": [
    "c = pd.DataFrame({'x':[a['x']], 'y':[a['y']]}, index=['a'])"
   ]
  },
  {
   "cell_type": "code",
   "execution_count": 37,
   "metadata": {},
   "outputs": [
    {
     "name": "stderr",
     "output_type": "stream",
     "text": [
      "C:\\Users\\panip\\Anaconda3\\lib\\site-packages\\pandas\\core\\frame.py:6692: FutureWarning: Sorting because non-concatenation axis is not aligned. A future version\n",
      "of pandas will change to not sort by default.\n",
      "\n",
      "To accept the future behavior, pass 'sort=False'.\n",
      "\n",
      "To retain the current behavior and silence the warning, pass 'sort=True'.\n",
      "\n",
      "  sort=sort)\n"
     ]
    }
   ],
   "source": [
    "a =a.append(c)"
   ]
  },
  {
   "cell_type": "code",
   "execution_count": 43,
   "metadata": {},
   "outputs": [
    {
     "data": {
      "text/plain": [
       "0                                               0.0212385\n",
       "1                                                0.023144\n",
       "2                                               0.0212456\n",
       "3                                               0.0217055\n",
       "4                                               0.0212578\n",
       "5                                               0.0329287\n",
       "6                                                 0.02094\n",
       "7                                               0.0214365\n",
       "8                                               0.0215698\n",
       "9                                               0.0322722\n",
       "10                                              0.0249866\n",
       "11                                              0.0332234\n",
       "12                                              0.0330499\n",
       "13                                              0.0216227\n",
       "14                                              0.0437443\n",
       "15                                              0.0331346\n",
       "16                                              0.0331979\n",
       "17                                              0.0353814\n",
       "18                                              0.0343847\n",
       "19                                              0.0362551\n",
       "20                                              0.0472344\n",
       "21                                              0.0462116\n",
       "22                                              0.0338106\n",
       "23                                              0.0450508\n",
       "24                                              0.0450338\n",
       "25                                              0.0571389\n",
       "26                                              0.0493661\n",
       "27                                              0.0590874\n",
       "28                                                0.02376\n",
       "29                                               0.030148\n",
       "                              ...                        \n",
       "1973                                             0.188951\n",
       "1974                                             0.201305\n",
       "1975                                             0.199898\n",
       "1976                                             0.214014\n",
       "1977                                             0.214852\n",
       "1978                                             0.265673\n",
       "1979                                             0.266833\n",
       "1980                                             0.254134\n",
       "1981                                             0.253481\n",
       "1982                                             0.242002\n",
       "1983                                             0.242221\n",
       "1984                                              0.23779\n",
       "1985                                             0.238165\n",
       "1986                                             0.264315\n",
       "1987                                             0.265475\n",
       "1988                                              0.25257\n",
       "1989                                             0.251917\n",
       "1990                                             0.240244\n",
       "1991                                             0.240462\n",
       "1992                                             0.235961\n",
       "1993                                             0.236335\n",
       "1994                                             0.262957\n",
       "1995                                             0.264116\n",
       "1996                                             0.251005\n",
       "1997                                             0.250353\n",
       "1998                                             0.238485\n",
       "1999                                             0.238704\n",
       "2000                                             0.234131\n",
       "2001                                             0.234505\n",
       "0       0       0.021239\n",
       "1       0.023144\n",
       "2       0.02...\n",
       "Name: x, Length: 2003, dtype: object"
      ]
     },
     "execution_count": 43,
     "metadata": {},
     "output_type": "execute_result"
    }
   ],
   "source": [
    "a['x']['a']"
   ]
  },
  {
   "cell_type": "code",
   "execution_count": null,
   "metadata": {},
   "outputs": [],
   "source": []
  }
 ],
 "metadata": {
  "kernelspec": {
   "display_name": "Python 3",
   "language": "python",
   "name": "python3"
  },
  "language_info": {
   "codemirror_mode": {
    "name": "ipython",
    "version": 3
   },
   "file_extension": ".py",
   "mimetype": "text/x-python",
   "name": "python",
   "nbconvert_exporter": "python",
   "pygments_lexer": "ipython3",
   "version": "3.7.3"
  }
 },
 "nbformat": 4,
 "nbformat_minor": 2
}
