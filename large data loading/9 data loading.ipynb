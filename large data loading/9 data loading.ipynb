{
 "cells": [
  {
   "cell_type": "code",
   "execution_count": 86,
   "metadata": {},
   "outputs": [],
   "source": [
    "import pandas as pd\n",
    "import numpy as np\n",
    "import glob"
   ]
  },
  {
   "cell_type": "code",
   "execution_count": 87,
   "metadata": {},
   "outputs": [],
   "source": [
    "a = enumerate(file_list)\n",
    "file_list = glob.glob('*.xlsx')"
   ]
  },
  {
   "cell_type": "code",
   "execution_count": 88,
   "metadata": {},
   "outputs": [
    {
     "name": "stdout",
     "output_type": "stream",
     "text": [
      "surface0.xlsx 0\n",
      "surface1.xlsx 1\n",
      "surface2.xlsx 2\n",
      "surface3.xlsx 3\n",
      "surface4.xlsx 4\n",
      "surface5.xlsx 5\n",
      "surface6.xlsx 6\n",
      "surface7.xlsx 7\n",
      "surface8.xlsx 8\n",
      "surface0.xlsx 0\n",
      "surface1.xlsx 1\n",
      "surface2.xlsx 2\n",
      "surface3.xlsx 3\n",
      "surface4.xlsx 4\n",
      "surface5.xlsx 5\n",
      "surface6.xlsx 6\n",
      "surface7.xlsx 7\n",
      "surface8.xlsx 8\n",
      "surface0.xlsx 0\n",
      "surface1.xlsx 1\n",
      "surface2.xlsx 2\n",
      "surface3.xlsx 3\n",
      "surface4.xlsx 4\n",
      "surface5.xlsx 5\n",
      "surface6.xlsx 6\n",
      "surface7.xlsx 7\n",
      "surface8.xlsx 8\n",
      "surface0.xlsx 0\n",
      "surface1.xlsx 1\n",
      "surface2.xlsx 2\n",
      "surface3.xlsx 3\n",
      "surface4.xlsx 4\n",
      "surface5.xlsx 5\n",
      "surface6.xlsx 6\n",
      "surface7.xlsx 7\n",
      "surface8.xlsx 8\n",
      "surface0.xlsx 0\n",
      "surface1.xlsx 1\n",
      "surface2.xlsx 2\n",
      "surface3.xlsx 3\n",
      "surface4.xlsx 4\n",
      "surface5.xlsx 5\n",
      "surface6.xlsx 6\n",
      "surface7.xlsx 7\n",
      "surface8.xlsx 8\n",
      "surface0.xlsx 0\n",
      "surface1.xlsx 1\n",
      "surface2.xlsx 2\n",
      "surface3.xlsx 3\n",
      "surface4.xlsx 4\n",
      "surface5.xlsx 5\n",
      "surface6.xlsx 6\n",
      "surface7.xlsx 7\n",
      "surface8.xlsx 8\n",
      "surface0.xlsx 0\n",
      "surface1.xlsx 1\n",
      "surface2.xlsx 2\n",
      "surface3.xlsx 3\n",
      "surface4.xlsx 4\n",
      "surface5.xlsx 5\n",
      "surface6.xlsx 6\n",
      "surface7.xlsx 7\n",
      "surface8.xlsx 8\n",
      "surface0.xlsx 0\n",
      "surface1.xlsx 1\n",
      "surface2.xlsx 2\n",
      "surface3.xlsx 3\n",
      "surface4.xlsx 4\n",
      "surface5.xlsx 5\n",
      "surface6.xlsx 6\n",
      "surface7.xlsx 7\n",
      "surface8.xlsx 8\n",
      "surface0.xlsx 0\n",
      "surface1.xlsx 1\n",
      "surface2.xlsx 2\n",
      "surface3.xlsx 3\n",
      "surface4.xlsx 4\n",
      "surface5.xlsx 5\n",
      "surface6.xlsx 6\n",
      "surface7.xlsx 7\n",
      "surface8.xlsx 8\n",
      "surface0.xlsx 0\n",
      "surface1.xlsx 1\n",
      "surface2.xlsx 2\n",
      "surface3.xlsx 3\n",
      "surface4.xlsx 4\n",
      "surface5.xlsx 5\n",
      "surface6.xlsx 6\n",
      "surface7.xlsx 7\n",
      "surface8.xlsx 8\n"
     ]
    }
   ],
   "source": [
    "a = []\n",
    "for i, current_file in enumerate(file_list): \n",
    "    readingx = pd.read_excel(current_file, sheet_name = '1')\n",
    "    print(current_file , i)\n",
    "    a.append(np.asarray(readingx['x']))\n",
    "\n",
    "b = []\n",
    "for i, current_file in enumerate(file_list): \n",
    "    readingy = pd.read_excel(current_file, sheet_name = '1')\n",
    "    print(current_file , i)\n",
    "    b.append(np.asarray(readingy['y']))\n",
    "\n",
    "c = []\n",
    "for i, current_file in enumerate(file_list): \n",
    "    readingz = pd.read_excel(current_file, sheet_name = '1')\n",
    "    print(current_file , i)\n",
    "    c.append(np.asarray(readingz['z']))\n",
    "    \n",
    "d = []\n",
    "for i, current_file in enumerate(file_list): \n",
    "    readingcw = pd.read_excel(current_file, sheet_name = '2')\n",
    "    print(current_file , i)\n",
    "    d.append(np.asarray(readingcw['cw']))\n",
    "    \n",
    "e = []\n",
    "for i, current_file in enumerate(file_list): \n",
    "    readingch = pd.read_excel(current_file, sheet_name = '2')\n",
    "    print(current_file , i)\n",
    "    e.append(np.asarray(readingch['ch']))\n",
    "    \n",
    "f = []\n",
    "for i, current_file in enumerate(file_list): \n",
    "    readingcd = pd.read_excel(current_file, sheet_name = '2')\n",
    "    print(current_file , i)\n",
    "    f.append(np.asarray(readingcd['cd']))\n",
    "    \n",
    "g = []\n",
    "for i, current_file in enumerate(file_list): \n",
    "    readinggw = pd.read_excel(current_file, sheet_name = '2')\n",
    "    print(current_file , i)\n",
    "    g.append(np.asarray(readinggw['gw']))\n",
    "    \n",
    "h = []\n",
    "for i, current_file in enumerate(file_list): \n",
    "    readinggd = pd.read_excel(current_file, sheet_name = '2')\n",
    "    print(current_file , i)\n",
    "    h.append(np.asarray(readinggd['gd']))\n",
    "    \n",
    "j = []\n",
    "for i, current_file in enumerate(file_list): \n",
    "    readingdisp = pd.read_excel(current_file, sheet_name = '2')\n",
    "    print(current_file , i)\n",
    "    h.append(np.asarray(readinggd['disp']))\n",
    "    \n",
    "k = []\n",
    "for i, current_file in enumerate(file_list): \n",
    "    readingangle = pd.read_excel(current_file, sheet_name = '2')\n",
    "    print(current_file , i)\n",
    "    k.append(np.asarray(readingangle['rotation']))"
   ]
  },
  {
   "cell_type": "code",
   "execution_count": 85,
   "metadata": {},
   "outputs": [
    {
     "data": {
      "text/plain": [
       "array([0.7])"
      ]
     },
     "execution_count": 85,
     "metadata": {},
     "output_type": "execute_result"
    }
   ],
   "source": [
    "f[2]"
   ]
  },
  {
   "cell_type": "code",
   "execution_count": 72,
   "metadata": {},
   "outputs": [
    {
     "data": {
      "text/plain": [
       "array([0.03311325, 0.02154787, 0.02140756, ..., 0.44916707, 0.45036951,\n",
       "       0.45083036])"
      ]
     },
     "execution_count": 72,
     "metadata": {},
     "output_type": "execute_result"
    }
   ],
   "source": [
    "a[7]"
   ]
  },
  {
   "cell_type": "code",
   "execution_count": 89,
   "metadata": {},
   "outputs": [
    {
     "data": {
      "text/plain": [
       "array([0], dtype=int64)"
      ]
     },
     "execution_count": 89,
     "metadata": {},
     "output_type": "execute_result"
    }
   ],
   "source": [
    "k[5]"
   ]
  },
  {
   "cell_type": "code",
   "execution_count": null,
   "metadata": {},
   "outputs": [],
   "source": []
  }
 ],
 "metadata": {
  "kernelspec": {
   "display_name": "Python 3",
   "language": "python",
   "name": "python3"
  },
  "language_info": {
   "codemirror_mode": {
    "name": "ipython",
    "version": 3
   },
   "file_extension": ".py",
   "mimetype": "text/x-python",
   "name": "python",
   "nbconvert_exporter": "python",
   "pygments_lexer": "ipython3",
   "version": "3.7.3"
  }
 },
 "nbformat": 4,
 "nbformat_minor": 2
}
