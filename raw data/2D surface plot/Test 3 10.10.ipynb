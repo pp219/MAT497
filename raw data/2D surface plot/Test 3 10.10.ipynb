{
 "cells": [
  {
   "cell_type": "code",
   "execution_count": 5,
   "metadata": {},
   "outputs": [],
   "source": [
    "import os\n",
    "import sys\n",
    "import numpy as np\n",
    "from scipy.interpolate import griddata\n",
    "import matplotlib.pyplot as plt\n",
    "from PIL import Image\n",
    "import os\n",
    "import sys\n",
    "import numpy as np\n",
    "from scipy.interpolate import griddata\n",
    "import matplotlib.pyplot as plt\n",
    "from PIL import Image"
   ]
  },
  {
   "cell_type": "code",
   "execution_count": 1,
   "metadata": {},
   "outputs": [
    {
     "ename": "FileNotFoundError",
     "evalue": "[Errno 2] No such file or directory: '-f'",
     "output_type": "error",
     "traceback": [
      "\u001b[1;31m---------------------------------------------------------------------------\u001b[0m",
      "\u001b[1;31mFileNotFoundError\u001b[0m                         Traceback (most recent call last)",
      "\u001b[1;32m<ipython-input-1-503ba1e1c40a>\u001b[0m in \u001b[0;36m<module>\u001b[1;34m\u001b[0m\n\u001b[0;32m     22\u001b[0m \u001b[1;31m# Read in image and convert to greyscale array object\u001b[0m\u001b[1;33m\u001b[0m\u001b[1;33m\u001b[0m\u001b[1;33m\u001b[0m\u001b[0m\n\u001b[0;32m     23\u001b[0m \u001b[0mimg_name\u001b[0m \u001b[1;33m=\u001b[0m \u001b[0msys\u001b[0m\u001b[1;33m.\u001b[0m\u001b[0margv\u001b[0m\u001b[1;33m[\u001b[0m\u001b[1;36m1\u001b[0m\u001b[1;33m]\u001b[0m\u001b[1;33m\u001b[0m\u001b[1;33m\u001b[0m\u001b[0m\n\u001b[1;32m---> 24\u001b[1;33m \u001b[0mim\u001b[0m \u001b[1;33m=\u001b[0m \u001b[0mImage\u001b[0m\u001b[1;33m.\u001b[0m\u001b[0mopen\u001b[0m\u001b[1;33m(\u001b[0m\u001b[0mimg_name\u001b[0m\u001b[1;33m)\u001b[0m\u001b[1;33m\u001b[0m\u001b[1;33m\u001b[0m\u001b[0m\n\u001b[0m\u001b[0;32m     25\u001b[0m \u001b[0mim\u001b[0m \u001b[1;33m=\u001b[0m \u001b[0mnp\u001b[0m\u001b[1;33m.\u001b[0m\u001b[0marray\u001b[0m\u001b[1;33m(\u001b[0m\u001b[0mim\u001b[0m\u001b[1;33m.\u001b[0m\u001b[0mconvert\u001b[0m\u001b[1;33m(\u001b[0m\u001b[1;34m'L'\u001b[0m\u001b[1;33m)\u001b[0m\u001b[1;33m)\u001b[0m\u001b[1;33m\u001b[0m\u001b[1;33m\u001b[0m\u001b[0m\n\u001b[0;32m     26\u001b[0m \u001b[1;33m\u001b[0m\u001b[0m\n",
      "\u001b[1;32m~\\Anaconda3\\lib\\site-packages\\PIL\\Image.py\u001b[0m in \u001b[0;36mopen\u001b[1;34m(fp, mode)\u001b[0m\n\u001b[0;32m   2768\u001b[0m \u001b[1;33m\u001b[0m\u001b[0m\n\u001b[0;32m   2769\u001b[0m     \u001b[1;32mif\u001b[0m \u001b[0mfilename\u001b[0m\u001b[1;33m:\u001b[0m\u001b[1;33m\u001b[0m\u001b[1;33m\u001b[0m\u001b[0m\n\u001b[1;32m-> 2770\u001b[1;33m         \u001b[0mfp\u001b[0m \u001b[1;33m=\u001b[0m \u001b[0mbuiltins\u001b[0m\u001b[1;33m.\u001b[0m\u001b[0mopen\u001b[0m\u001b[1;33m(\u001b[0m\u001b[0mfilename\u001b[0m\u001b[1;33m,\u001b[0m \u001b[1;34m\"rb\"\u001b[0m\u001b[1;33m)\u001b[0m\u001b[1;33m\u001b[0m\u001b[1;33m\u001b[0m\u001b[0m\n\u001b[0m\u001b[0;32m   2771\u001b[0m         \u001b[0mexclusive_fp\u001b[0m \u001b[1;33m=\u001b[0m \u001b[1;32mTrue\u001b[0m\u001b[1;33m\u001b[0m\u001b[1;33m\u001b[0m\u001b[0m\n\u001b[0;32m   2772\u001b[0m \u001b[1;33m\u001b[0m\u001b[0m\n",
      "\u001b[1;31mFileNotFoundError\u001b[0m: [Errno 2] No such file or directory: '-f'"
     ]
    }
   ],
   "source": [
    "\n",
    "\n",
    "#def make_interpolated_image(nsamples):\n",
    "    \"\"\"Make an interpolated image from a random selection of pixels.\n",
    "\n",
    "    Take nsamples random pixels from im and reconstruct the image using\n",
    "    scipy.interpolate.griddata.\n",
    "\n",
    "    \"\"\"\n",
    "\n",
    "    ix = np.random.randint(im.shape[1], size=nsamples)\n",
    "    iy = np.random.randint(im.shape[0], size=nsamples)\n",
    "    samples = im[iy,ix]\n",
    "    int_im = griddata((iy, ix), samples, (Y, X))\n",
    "    return int_im\n",
    "\n",
    "# Read in image and convert to greyscale array object\n",
    "img_name = sys.argv[1]\n",
    "im = Image.open(img_name)\n",
    "im = np.array(im.convert('L'))\n",
    "\n",
    "# A meshgrid of pixel coordinates\n",
    "nx, ny = im.shape[1], im.shape[0]\n",
    "X, Y = np.meshgrid(np.arange(0, nx, 1), np.arange(0, ny, 1))\n",
    "\n",
    "# Create a figure of nrows x ncols subplots, and orient it appropriately\n",
    "# for the aspect ratio of the image.\n",
    "nrows, ncols = 2, 2\n",
    "fig, ax = plt.subplots(nrows=2, ncols=2, figsize=(6,4), dpi=100)\n",
    "if nx < ny:\n",
    "    w, h = fig.get_figwidth(), fig.get_figheight()\n",
    "    fig.set_figwidth(h), fig.set_figheight(w)\n",
    "\n",
    "# Convert an integer i to coordinates in the ax array\n",
    "get_indices = lambda i: (i // nrows, i % ncols)\n",
    "\n",
    "# Sample 100, 1,000, 10,000 and 100,000 points and plot the interpolated\n",
    "# images in the figure\n",
    "for i in range(4):\n",
    "    nsamples = 10**(i+2)\n",
    "    axes = ax[get_indices(i)]\n",
    "    axes.imshow(make_interpolated_image(nsamples),\n",
    "                          cmap=plt.get_cmap('Greys_r'))\n",
    "    axes.set_xticks([])\n",
    "    axes.set_yticks([])\n",
    "    axes.set_title('nsamples = {0:d}'.format(nsamples))\n",
    "filestem = os.path.splitext(os.path.basename(img_name))[0]\n",
    "plt.savefig('{0:s}_interp.png'.format(filestem), dpi=100)\n",
    "\n",
    "    ix = np.random.randint(im.shape[1], size=nsamples)\n",
    "    iy = np.random.randint(im.shape[0], size=nsamples)\n",
    "    samples = im[iy,ix]\n",
    "    int_im = griddata((iy, ix), samples, (Y, X))\n",
    "    return int_im\n",
    "\n",
    "# Read in image and convert to greyscale array object\n",
    "img_name = sys.argv[1]\n",
    "im = Image.open(img_name)\n",
    "im = np.array(im.convert('L'))\n",
    "\n",
    "# A meshgrid of pixel coordinates\n",
    "nx, ny = im.shape[1], im.shape[0]\n",
    "X, Y = np.meshgrid(np.arange(0, nx, 1), np.arange(0, ny, 1))\n",
    "\n",
    "# Create a figure of nrows x ncols subplots, and orient it appropriately\n",
    "# for the aspect ratio of the image.\n",
    "nrows, ncols = 2, 2\n",
    "fig, ax = plt.subplots(nrows=2, ncols=2, figsize=(6,4), dpi=100)\n",
    "if nx < ny:\n",
    "    w, h = fig.get_figwidth(), fig.get_figheight()\n",
    "    fig.set_figwidth(h), fig.set_figheight(w)\n",
    "\n",
    "# Convert an integer i to coordinates in the ax array\n",
    "get_indices = lambda i: (i // nrows, i % ncols)\n",
    "\n",
    "# Sample 100, 1,000, 10,000 and 100,000 points and plot the interpolated\n",
    "# images in the figure\n",
    "for i in range(4):\n",
    "    nsamples = 10**(i+2)\n",
    "    axes = ax[get_indices(i)]\n",
    "    axes.imshow(make_interpolated_image(nsamples),\n",
    "                          cmap=plt.get_cmap('Greys_r'))\n",
    "    axes.set_xticks([])\n",
    "    axes.set_yticks([])\n",
    "    axes.set_title('nsamples = {0:d}'.format(nsamples))\n",
    "filestem = os.path.splitext(os.path.basename(img_name))[0]\n",
    "plt.savefig('{0:s}_interp.png'.format(filestem), dpi=100)"
   ]
  },
  {
   "cell_type": "code",
   "execution_count": 6,
   "metadata": {},
   "outputs": [
    {
     "ename": "NameError",
     "evalue": "name 'im' is not defined",
     "output_type": "error",
     "traceback": [
      "\u001b[1;31m---------------------------------------------------------------------------\u001b[0m",
      "\u001b[1;31mNameError\u001b[0m                                 Traceback (most recent call last)",
      "\u001b[1;32m<ipython-input-6-18cd7f178a4f>\u001b[0m in \u001b[0;36m<module>\u001b[1;34m\u001b[0m\n\u001b[0;32m      2\u001b[0m \u001b[1;33m\u001b[0m\u001b[0m\n\u001b[0;32m      3\u001b[0m \u001b[1;33m\u001b[0m\u001b[0m\n\u001b[1;32m----> 4\u001b[1;33m \u001b[0mix\u001b[0m \u001b[1;33m=\u001b[0m \u001b[0mnp\u001b[0m\u001b[1;33m.\u001b[0m\u001b[0mrandom\u001b[0m\u001b[1;33m.\u001b[0m\u001b[0mrandint\u001b[0m\u001b[1;33m(\u001b[0m\u001b[0mim\u001b[0m\u001b[1;33m.\u001b[0m\u001b[0mshape\u001b[0m\u001b[1;33m[\u001b[0m\u001b[1;36m1\u001b[0m\u001b[1;33m]\u001b[0m\u001b[1;33m,\u001b[0m \u001b[0msize\u001b[0m\u001b[1;33m=\u001b[0m\u001b[0mnsamples\u001b[0m\u001b[1;33m)\u001b[0m\u001b[1;33m\u001b[0m\u001b[1;33m\u001b[0m\u001b[0m\n\u001b[0m\u001b[0;32m      5\u001b[0m \u001b[0miy\u001b[0m \u001b[1;33m=\u001b[0m \u001b[0mnp\u001b[0m\u001b[1;33m.\u001b[0m\u001b[0mrandom\u001b[0m\u001b[1;33m.\u001b[0m\u001b[0mrandint\u001b[0m\u001b[1;33m(\u001b[0m\u001b[0mim\u001b[0m\u001b[1;33m.\u001b[0m\u001b[0mshape\u001b[0m\u001b[1;33m[\u001b[0m\u001b[1;36m0\u001b[0m\u001b[1;33m]\u001b[0m\u001b[1;33m,\u001b[0m \u001b[0msize\u001b[0m\u001b[1;33m=\u001b[0m\u001b[0mnsamples\u001b[0m\u001b[1;33m)\u001b[0m\u001b[1;33m\u001b[0m\u001b[1;33m\u001b[0m\u001b[0m\n\u001b[0;32m      6\u001b[0m \u001b[0msamples\u001b[0m \u001b[1;33m=\u001b[0m \u001b[0mim\u001b[0m\u001b[1;33m[\u001b[0m\u001b[0miy\u001b[0m\u001b[1;33m,\u001b[0m\u001b[0mix\u001b[0m\u001b[1;33m]\u001b[0m\u001b[1;33m\u001b[0m\u001b[1;33m\u001b[0m\u001b[0m\n",
      "\u001b[1;31mNameError\u001b[0m: name 'im' is not defined"
     ]
    }
   ],
   "source": [
    "#def make_interpolated_image(nsamples):\n",
    "    \n",
    "    \n",
    "ix = np.random.randint(im.shape[1], size=nsamples)\n",
    "iy = np.random.randint(im.shape[0], size=nsamples)\n",
    "samples = im[iy,ix]\n",
    "int_im = griddata((iy, ix), samples, (Y, X))\n",
    "return int_im"
   ]
  },
  {
   "cell_type": "code",
   "execution_count": null,
   "metadata": {},
   "outputs": [],
   "source": []
  },
  {
   "cell_type": "code",
   "execution_count": null,
   "metadata": {},
   "outputs": [],
   "source": []
  }
 ],
 "metadata": {
  "kernelspec": {
   "display_name": "Python 3",
   "language": "python",
   "name": "python3"
  },
  "language_info": {
   "codemirror_mode": {
    "name": "ipython",
    "version": 3
   },
   "file_extension": ".py",
   "mimetype": "text/x-python",
   "name": "python",
   "nbconvert_exporter": "python",
   "pygments_lexer": "ipython3",
   "version": "3.7.3"
  }
 },
 "nbformat": 4,
 "nbformat_minor": 2
}
