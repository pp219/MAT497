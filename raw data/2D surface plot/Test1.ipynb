{
 "cells": [
  {
   "cell_type": "code",
   "execution_count": 1,
   "metadata": {},
   "outputs": [],
   "source": [
    "import pandas as pd"
   ]
  },
  {
   "cell_type": "code",
   "execution_count": 3,
   "metadata": {},
   "outputs": [],
   "source": [
    "plot = pd.read_excel('SG_plot.xls')"
   ]
  },
  {
   "cell_type": "code",
   "execution_count": 4,
   "metadata": {},
   "outputs": [
    {
     "data": {
      "text/html": [
       "<div>\n",
       "<style scoped>\n",
       "    .dataframe tbody tr th:only-of-type {\n",
       "        vertical-align: middle;\n",
       "    }\n",
       "\n",
       "    .dataframe tbody tr th {\n",
       "        vertical-align: top;\n",
       "    }\n",
       "\n",
       "    .dataframe thead th {\n",
       "        text-align: right;\n",
       "    }\n",
       "</style>\n",
       "<table border=\"1\" class=\"dataframe\">\n",
       "  <thead>\n",
       "    <tr style=\"text-align: right;\">\n",
       "      <th></th>\n",
       "      <th>x</th>\n",
       "      <th>y</th>\n",
       "      <th>z</th>\n",
       "      <th>Unnamed: 3</th>\n",
       "      <th>gw</th>\n",
       "      <th>0.1</th>\n",
       "      <th>mm</th>\n",
       "    </tr>\n",
       "  </thead>\n",
       "  <tbody>\n",
       "    <tr>\n",
       "      <th>0</th>\n",
       "      <td>0.019452</td>\n",
       "      <td>0.180548</td>\n",
       "      <td>0.000451</td>\n",
       "      <td>NaN</td>\n",
       "      <td>gh</td>\n",
       "      <td>1.00</td>\n",
       "      <td>mm</td>\n",
       "    </tr>\n",
       "    <tr>\n",
       "      <th>1</th>\n",
       "      <td>0.036040</td>\n",
       "      <td>0.180950</td>\n",
       "      <td>0.000609</td>\n",
       "      <td>NaN</td>\n",
       "      <td>gd</td>\n",
       "      <td>0.01</td>\n",
       "      <td>mm</td>\n",
       "    </tr>\n",
       "    <tr>\n",
       "      <th>2</th>\n",
       "      <td>0.019862</td>\n",
       "      <td>0.171078</td>\n",
       "      <td>0.000570</td>\n",
       "      <td>NaN</td>\n",
       "      <td>array</td>\n",
       "      <td>112.00</td>\n",
       "      <td>mm</td>\n",
       "    </tr>\n",
       "    <tr>\n",
       "      <th>3</th>\n",
       "      <td>0.028643</td>\n",
       "      <td>0.162951</td>\n",
       "      <td>0.000808</td>\n",
       "      <td>NaN</td>\n",
       "      <td>disp</td>\n",
       "      <td>0.25</td>\n",
       "      <td>mm</td>\n",
       "    </tr>\n",
       "    <tr>\n",
       "      <th>4</th>\n",
       "      <td>0.020107</td>\n",
       "      <td>0.165363</td>\n",
       "      <td>0.000640</td>\n",
       "      <td>NaN</td>\n",
       "      <td>cw</td>\n",
       "      <td>0.10</td>\n",
       "      <td>mm</td>\n",
       "    </tr>\n",
       "  </tbody>\n",
       "</table>\n",
       "</div>"
      ],
      "text/plain": [
       "          x         y         z  Unnamed: 3     gw     0.1  mm\n",
       "0  0.019452  0.180548  0.000451         NaN     gh    1.00  mm\n",
       "1  0.036040  0.180950  0.000609         NaN     gd    0.01  mm\n",
       "2  0.019862  0.171078  0.000570         NaN  array  112.00  mm\n",
       "3  0.028643  0.162951  0.000808         NaN   disp    0.25  mm\n",
       "4  0.020107  0.165363  0.000640         NaN     cw    0.10  mm"
      ]
     },
     "execution_count": 4,
     "metadata": {},
     "output_type": "execute_result"
    }
   ],
   "source": [
    "plot.head()"
   ]
  },
  {
   "cell_type": "code",
   "execution_count": 22,
   "metadata": {},
   "outputs": [],
   "source": [
    "%matplotlib inline"
   ]
  },
  {
   "cell_type": "code",
   "execution_count": 23,
   "metadata": {},
   "outputs": [
    {
     "name": "stdout",
     "output_type": "stream",
     "text": [
      "0.0 1.0\n",
      "0.1 0.2\n"
     ]
    }
   ],
   "source": [
    "print(np.min(plot['X']),np.max(plot['X']))\n",
    "print(np.min(plot['Y']),np.max(plot['Y']))"
   ]
  },
  {
   "cell_type": "code",
   "execution_count": null,
   "metadata": {},
   "outputs": [],
   "source": []
  },
  {
   "cell_type": "code",
   "execution_count": 10,
   "metadata": {
    "scrolled": false
   },
   "outputs": [
    {
     "name": "stderr",
     "output_type": "stream",
     "text": [
      "C:\\Users\\panip\\Anaconda3\\lib\\site-packages\\ipykernel_launcher.py:18: UserWarning: No contour levels were found within the data range.\n"
     ]
    },
    {
     "data": {
      "image/png": "[encoded data removed]",
      "text/plain": [
       "<Figure size 432x288 with 2 Axes>"
      ]
     },
     "metadata": {
      "needs_background": "light"
     },
     "output_type": "display_data"
    }
   ],
   "source": [
    "import matplotlib\n",
    "import numpy as np\n",
    "import matplotlib.cm as cm\n",
    "import matplotlib.pyplot as plt\n",
    "from scipy.interpolate import interp2d\n",
    "\n",
    "x=plot['X']\n",
    "y=plot['Y']\n",
    "z=plot['Color']\n",
    "\n",
    "contour_breaks = 20\n",
    "ticks = np.linspace(x.min(), x.max(), contour_breaks, endpoint=True)\n",
    "\n",
    "fig = plt.figure()\n",
    "axes = fig.add_subplot(111,aspect='equal')\n",
    "f = interp2d(x,y,z,kind='cubic')\n",
    "z1 = f(x,y)\n",
    "axes.contour(x,y,z1,ticks[30:-30],colors='k')\n",
    "fill = axes.contourf(x,y,z1,ticks,cmap=cm.viridis)\n",
    "fig.colorbar(fill, ticks=ticks)\n",
    "\n",
    "plt.show()\n",
    "fig.savefig(\"./test2.png\")"
   ]
  },
  {
   "cell_type": "code",
   "execution_count": 17,
   "metadata": {},
   "outputs": [
    {
     "name": "stdout",
     "output_type": "stream",
     "text": [
      "458 458 (458,)\n",
      "<class 'matplotlib.image.NonUniformImage'>\n"
     ]
    },
    {
     "ename": "TypeError",
     "evalue": "Axes don't match array shape",
     "output_type": "error",
     "traceback": [
      "\u001b[1;31m---------------------------------------------------------------------------\u001b[0m",
      "\u001b[1;31mTypeError\u001b[0m                                 Traceback (most recent call last)",
      "\u001b[1;32m<ipython-input-17-d76e1efff09d>\u001b[0m in \u001b[0;36m<module>\u001b[1;34m\u001b[0m\n\u001b[0;32m     20\u001b[0m \u001b[0mprint\u001b[0m\u001b[1;33m(\u001b[0m\u001b[0mtype\u001b[0m\u001b[1;33m(\u001b[0m\u001b[0mim\u001b[0m\u001b[1;33m)\u001b[0m\u001b[1;33m)\u001b[0m\u001b[1;33m\u001b[0m\u001b[1;33m\u001b[0m\u001b[0m\n\u001b[0;32m     21\u001b[0m \u001b[1;33m\u001b[0m\u001b[0m\n\u001b[1;32m---> 22\u001b[1;33m \u001b[0mim\u001b[0m\u001b[1;33m.\u001b[0m\u001b[0mset_data\u001b[0m\u001b[1;33m(\u001b[0m\u001b[0mX\u001b[0m\u001b[1;33m,\u001b[0m \u001b[0mY\u001b[0m\u001b[1;33m,\u001b[0m \u001b[0mColor\u001b[0m\u001b[1;33m)\u001b[0m\u001b[1;33m\u001b[0m\u001b[1;33m\u001b[0m\u001b[0m\n\u001b[0m\u001b[0;32m     23\u001b[0m \u001b[1;33m\u001b[0m\u001b[0m\n\u001b[0;32m     24\u001b[0m \u001b[0max\u001b[0m\u001b[1;33m.\u001b[0m\u001b[0mimages\u001b[0m\u001b[1;33m.\u001b[0m\u001b[0mappend\u001b[0m\u001b[1;33m(\u001b[0m\u001b[0mim\u001b[0m\u001b[1;33m)\u001b[0m\u001b[1;33m\u001b[0m\u001b[1;33m\u001b[0m\u001b[0m\n",
      "\u001b[1;32m~\\Anaconda3\\lib\\site-packages\\matplotlib\\image.py\u001b[0m in \u001b[0;36mset_data\u001b[1;34m(self, x, y, A)\u001b[0m\n\u001b[0;32m   1018\u001b[0m         \u001b[0mA\u001b[0m \u001b[1;33m=\u001b[0m \u001b[0mcbook\u001b[0m\u001b[1;33m.\u001b[0m\u001b[0msafe_masked_invalid\u001b[0m\u001b[1;33m(\u001b[0m\u001b[0mA\u001b[0m\u001b[1;33m,\u001b[0m \u001b[0mcopy\u001b[0m\u001b[1;33m=\u001b[0m\u001b[1;32mTrue\u001b[0m\u001b[1;33m)\u001b[0m\u001b[1;33m\u001b[0m\u001b[1;33m\u001b[0m\u001b[0m\n\u001b[0;32m   1019\u001b[0m         \u001b[1;32mif\u001b[0m \u001b[1;32mnot\u001b[0m \u001b[1;33m(\u001b[0m\u001b[0mx\u001b[0m\u001b[1;33m.\u001b[0m\u001b[0mndim\u001b[0m \u001b[1;33m==\u001b[0m \u001b[0my\u001b[0m\u001b[1;33m.\u001b[0m\u001b[0mndim\u001b[0m \u001b[1;33m==\u001b[0m \u001b[1;36m1\u001b[0m \u001b[1;32mand\u001b[0m \u001b[0mA\u001b[0m\u001b[1;33m.\u001b[0m\u001b[0mshape\u001b[0m\u001b[1;33m[\u001b[0m\u001b[1;36m0\u001b[0m\u001b[1;33m:\u001b[0m\u001b[1;36m2\u001b[0m\u001b[1;33m]\u001b[0m \u001b[1;33m==\u001b[0m \u001b[0my\u001b[0m\u001b[1;33m.\u001b[0m\u001b[0mshape\u001b[0m \u001b[1;33m+\u001b[0m \u001b[0mx\u001b[0m\u001b[1;33m.\u001b[0m\u001b[0mshape\u001b[0m\u001b[1;33m)\u001b[0m\u001b[1;33m:\u001b[0m\u001b[1;33m\u001b[0m\u001b[1;33m\u001b[0m\u001b[0m\n\u001b[1;32m-> 1020\u001b[1;33m             \u001b[1;32mraise\u001b[0m \u001b[0mTypeError\u001b[0m\u001b[1;33m(\u001b[0m\u001b[1;34m\"Axes don't match array shape\"\u001b[0m\u001b[1;33m)\u001b[0m\u001b[1;33m\u001b[0m\u001b[1;33m\u001b[0m\u001b[0m\n\u001b[0m\u001b[0;32m   1021\u001b[0m         \u001b[1;32mif\u001b[0m \u001b[0mA\u001b[0m\u001b[1;33m.\u001b[0m\u001b[0mndim\u001b[0m \u001b[1;32mnot\u001b[0m \u001b[1;32min\u001b[0m \u001b[1;33m[\u001b[0m\u001b[1;36m2\u001b[0m\u001b[1;33m,\u001b[0m \u001b[1;36m3\u001b[0m\u001b[1;33m]\u001b[0m\u001b[1;33m:\u001b[0m\u001b[1;33m\u001b[0m\u001b[1;33m\u001b[0m\u001b[0m\n\u001b[0;32m   1022\u001b[0m             \u001b[1;32mraise\u001b[0m \u001b[0mTypeError\u001b[0m\u001b[1;33m(\u001b[0m\u001b[1;34m\"Can only plot 2D or 3D data\"\u001b[0m\u001b[1;33m)\u001b[0m\u001b[1;33m\u001b[0m\u001b[1;33m\u001b[0m\u001b[0m\n",
      "\u001b[1;31mTypeError\u001b[0m: Axes don't match array shape"
     ]
    },
    {
     "data": {
      "image/png": "[encoded data removed]",
      "text/plain": [
       "<Figure size 432x288 with 1 Axes>"
      ]
     },
     "metadata": {
      "needs_background": "light"
     },
     "output_type": "display_data"
    }
   ],
   "source": [
    "import numpy as np\n",
    "import matplotlib.pyplot as plt\n",
    "from matplotlib.image import NonUniformImage\n",
    "from matplotlib import cm\n",
    "\n",
    "interp = 'bilinear'\n",
    "\n",
    "X=plot['X']\n",
    "Y=plot['Y']\n",
    "Color=plot['Color']\n",
    "\n",
    "print(len(X), len(Y), Color.shape)\n",
    "\n",
    "fig = plt.figure()\n",
    "ax = fig.add_axes([0.1,0.1,0.8,0.8])\n",
    "# fig, ax = plt.subplot()\n",
    "\n",
    "# ax = axs[1,1]\n",
    "im = NonUniformImage(ax, interpolation=interp, cmap=cm.viridis)\n",
    "print(type(im))\n",
    "\n",
    "im.set_data(X, Y, Color)\n",
    "\n",
    "ax.images.append(im)\n",
    "\n",
    "ax.set_xlim(0, 1)\n",
    "ax.set_ylim(1,2)\n",
    "ax.set_title(interp)\n",
    "plt.show()"
   ]
  },
  {
   "cell_type": "code",
   "execution_count": 15,
   "metadata": {},
   "outputs": [
    {
     "data": {
      "text/plain": [
       "<function matplotlib.pyplot.show(*args, **kw)>"
      ]
     },
     "execution_count": 15,
     "metadata": {},
     "output_type": "execute_result"
    },
    {
     "data": {
      "image/png": "[encoded data removed]",
      "text/plain": [
       "<Figure size 432x288 with 4 Axes>"
      ]
     },
     "metadata": {
      "needs_background": "light"
     },
     "output_type": "display_data"
    }
   ],
   "source": [
    "from matplotlib.image import NonUniformImage\n",
    "from matplotlib import cm\n",
    "\n",
    "interp = 'nearest'\n",
    "\n",
    "# Linear x array for cell centers:\n",
    "x = np.linspace(-4, 4, 9)\n",
    "\n",
    "# Highly nonlinear x array:\n",
    "x2 = x**3\n",
    "\n",
    "y = np.linspace(-4, 4, 9)\n",
    "\n",
    "z = np.sqrt(x[np.newaxis, :]**2 + y[:, np.newaxis]**2)\n",
    "\n",
    "fig, axs = plt.subplots(nrows=2, ncols=2, constrained_layout=True)\n",
    "fig.suptitle('NonUniformImage class', fontsize='large')\n",
    "ax = axs[0, 0]\n",
    "im = NonUniformImage(ax, interpolation=interp, extent=(-4, 4, -4, 4),\n",
    "                     cmap=cm.Purples)\n",
    "im.set_data(x, y, z)\n",
    "ax.images.append(im)\n",
    "ax.set_xlim(-4, 4)\n",
    "ax.set_ylim(-4, 4)\n",
    "ax.set_title(interp)\n",
    "\n",
    "ax = axs[0, 1]\n",
    "im = NonUniformImage(ax, interpolation=interp, extent=(-64, 64, -4, 4),\n",
    "                     cmap=cm.Purples)\n",
    "im.set_data(x2, y, z)\n",
    "ax.images.append(im)\n",
    "ax.set_xlim(-64, 64)\n",
    "ax.set_ylim(-4, 4)\n",
    "ax.set_title(interp)\n",
    "\n",
    "interp = 'bilinear'\n",
    "\n",
    "ax = axs[1, 0]\n",
    "im = NonUniformImage(ax, interpolation=interp, extent=(-4, 4, -4, 4),\n",
    "                     cmap=cm.Purples)\n",
    "im.set_data(x, y, z)\n",
    "ax.images.append(im)\n",
    "ax.set_xlim(-4, 4)\n",
    "ax.set_ylim(-4, 4)\n",
    "ax.set_title(interp)\n",
    "\n",
    "ax = axs[1, 1]\n",
    "im = NonUniformImage(ax, interpolation=interp, extent=(-64, 64, -4, 4),\n",
    "                     cmap=cm.Purples)\n",
    "im.set_data(x2, y, z)\n",
    "ax.images.append(im)\n",
    "ax.set_xlim(-64, 64)\n",
    "ax.set_ylim(-4, 4)\n",
    "ax.set_title(interp)\n",
    "\n",
    "plt.show()"
   ]
  },
  {
   "cell_type": "code",
   "execution_count": 21,
   "metadata": {},
   "outputs": [
    {
     "data": {
      "text/plain": [
       "(379,)"
      ]
     },
     "execution_count": 21,
     "metadata": {},
     "output_type": "execute_result"
    }
   ],
   "source": [
    "np.unique(Y).shape"
   ]
  },
  {
   "cell_type": "code",
   "execution_count": null,
   "metadata": {},
   "outputs": [],
   "source": []
  }
 ],
 "metadata": {
  "kernelspec": {
   "display_name": "Python 3",
   "language": "python",
   "name": "python3"
  },
  "language_info": {
   "codemirror_mode": {
    "name": "ipython",
    "version": 3
   },
   "file_extension": ".py",
   "mimetype": "text/x-python",
   "name": "python",
   "nbconvert_exporter": "python",
   "pygments_lexer": "ipython3",
   "version": "3.7.3"
  }
 },
 "nbformat": 4,
 "nbformat_minor": 2
}
